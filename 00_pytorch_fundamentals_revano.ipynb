{
  "nbformat": 4,
  "nbformat_minor": 0,
  "metadata": {
    "colab": {
      "provenance": [],
      "gpuType": "T4",
      "authorship_tag": "ABX9TyMOhTXNlyfvRu9KOkuCmmko",
      "include_colab_link": true
    },
    "kernelspec": {
      "name": "python3",
      "display_name": "Python 3"
    },
    "language_info": {
      "name": "python"
    },
    "accelerator": "GPU"
  },
  "cells": [
    {
      "cell_type": "markdown",
      "metadata": {
        "id": "view-in-github",
        "colab_type": "text"
      },
      "source": [
        "<a href=\"https://colab.research.google.com/github/Revano512/learn_ml/blob/main/00_pytorch_fundamentals_revano.ipynb\" target=\"_parent\"><img src=\"https://colab.research.google.com/assets/colab-badge.svg\" alt=\"Open In Colab\"/></a>"
      ]
    },
    {
      "cell_type": "markdown",
      "source": [
        "## 00. Pytorch Fundamentals\n",
        "\n",
        "Resource notebook: https://www.learnpytorch.io/00_pytorch_fundamentals/"
      ],
      "metadata": {
        "id": "YL4G0kYw7vim"
      }
    },
    {
      "cell_type": "markdown",
      "source": [],
      "metadata": {
        "id": "yWk1wypv9ED6"
      }
    },
    {
      "cell_type": "code",
      "source": [
        "import torch\n",
        "import pandas as pd\n",
        "import numpy as np\n",
        "import matplotlib.pyplot as plt\n",
        "print(torch.__version__)"
      ],
      "metadata": {
        "colab": {
          "base_uri": "https://localhost:8080/"
        },
        "id": "Pybib4WF85Dn",
        "outputId": "a6dc7602-adbe-4162-9cc6-4fcf5bf6a0e0"
      },
      "execution_count": null,
      "outputs": [
        {
          "output_type": "stream",
          "name": "stdout",
          "text": [
            "2.5.1+cu121\n"
          ]
        }
      ]
    },
    {
      "cell_type": "markdown",
      "source": [],
      "metadata": {
        "id": "J6B5F1rSny9t"
      }
    },
    {
      "cell_type": "markdown",
      "source": [
        "## Introduction to Tensors\n",
        "\n",
        "### Creating tensors\n",
        "\n",
        "Pytorch tensors are created using `torch.Tensor()` = https://pytorch.org/tutorials/beginner/introyt/tensors_deeper_tutorial.html\n"
      ],
      "metadata": {
        "id": "ywKd8-Xr-dLd"
      }
    },
    {
      "cell_type": "code",
      "source": [
        "# scalar\n",
        "scalar = torch.tensor(10)\n",
        "scalar"
      ],
      "metadata": {
        "colab": {
          "base_uri": "https://localhost:8080/"
        },
        "id": "9QmqNRdR-k4R",
        "outputId": "5f36e19e-7e56-4cc8-9b4b-4cf6b4e009e4"
      },
      "execution_count": null,
      "outputs": [
        {
          "output_type": "execute_result",
          "data": {
            "text/plain": [
              "tensor(10)"
            ]
          },
          "metadata": {},
          "execution_count": 3
        }
      ]
    },
    {
      "cell_type": "code",
      "source": [
        "scalar.ndim"
      ],
      "metadata": {
        "colab": {
          "base_uri": "https://localhost:8080/"
        },
        "id": "j1_Qa32w_fTm",
        "outputId": "e5bffece-e325-41ca-e03d-50acc27d2a55"
      },
      "execution_count": null,
      "outputs": [
        {
          "output_type": "execute_result",
          "data": {
            "text/plain": [
              "0"
            ]
          },
          "metadata": {},
          "execution_count": 4
        }
      ]
    },
    {
      "cell_type": "code",
      "source": [
        "# Get tensor back as Python int\n",
        "scalar.item()"
      ],
      "metadata": {
        "colab": {
          "base_uri": "https://localhost:8080/"
        },
        "id": "iLwR3zr5_hop",
        "outputId": "bde83642-5e46-46cd-c5df-fd84a061116f"
      },
      "execution_count": null,
      "outputs": [
        {
          "output_type": "execute_result",
          "data": {
            "text/plain": [
              "10"
            ]
          },
          "metadata": {},
          "execution_count": 5
        }
      ]
    },
    {
      "cell_type": "code",
      "source": [
        "# Vector\n",
        "vector = torch.tensor([7, 7])\n",
        "vector"
      ],
      "metadata": {
        "colab": {
          "base_uri": "https://localhost:8080/"
        },
        "id": "QtXbDJXe_l-n",
        "outputId": "a860fce7-47b2-4ce7-b55e-dd322d4b2599"
      },
      "execution_count": null,
      "outputs": [
        {
          "output_type": "execute_result",
          "data": {
            "text/plain": [
              "tensor([7, 7])"
            ]
          },
          "metadata": {},
          "execution_count": 6
        }
      ]
    },
    {
      "cell_type": "code",
      "source": [
        "vector.ndim     # the number of closing brackets"
      ],
      "metadata": {
        "colab": {
          "base_uri": "https://localhost:8080/"
        },
        "id": "YnswqIzj_zKk",
        "outputId": "922868d0-35f4-41d8-a73c-f9f7942bd4e6"
      },
      "execution_count": null,
      "outputs": [
        {
          "output_type": "execute_result",
          "data": {
            "text/plain": [
              "1"
            ]
          },
          "metadata": {},
          "execution_count": 7
        }
      ]
    },
    {
      "cell_type": "code",
      "source": [
        "vector.shape    # total of 2 elements"
      ],
      "metadata": {
        "colab": {
          "base_uri": "https://localhost:8080/"
        },
        "id": "D1lnKNmY_3Iz",
        "outputId": "b5423634-bee1-4e3d-fd1e-f5474ffc3917"
      },
      "execution_count": null,
      "outputs": [
        {
          "output_type": "execute_result",
          "data": {
            "text/plain": [
              "torch.Size([2])"
            ]
          },
          "metadata": {},
          "execution_count": 8
        }
      ]
    },
    {
      "cell_type": "code",
      "source": [
        "# MATRIX\n",
        "MATRIX = torch.tensor([[7,8],\n",
        "                      [9,10]])\n",
        "MATRIX"
      ],
      "metadata": {
        "colab": {
          "base_uri": "https://localhost:8080/"
        },
        "id": "DUSCK4z5ALdR",
        "outputId": "c1d7a806-b5fe-4a77-b9c2-e348909f80db"
      },
      "execution_count": null,
      "outputs": [
        {
          "output_type": "execute_result",
          "data": {
            "text/plain": [
              "tensor([[ 7,  8],\n",
              "        [ 9, 10]])"
            ]
          },
          "metadata": {},
          "execution_count": 10
        }
      ]
    },
    {
      "cell_type": "code",
      "source": [
        "print(MATRIX.ndim)\n",
        "\n",
        "print(MATRIX.shape)"
      ],
      "metadata": {
        "colab": {
          "base_uri": "https://localhost:8080/"
        },
        "id": "WQuu7RQ8AjeZ",
        "outputId": "11a24f39-c6f1-447c-ade6-2d53d47b391b"
      },
      "execution_count": null,
      "outputs": [
        {
          "output_type": "stream",
          "name": "stdout",
          "text": [
            "2\n",
            "torch.Size([2, 2])\n"
          ]
        }
      ]
    },
    {
      "cell_type": "code",
      "source": [
        "# TENSOR\n",
        "TENSOR = torch.tensor([[[1,2,3],\n",
        "                       [3,6,9],\n",
        "                       [2,4,5]]])\n",
        "TENSOR\n",
        "\n",
        "print(TENSOR.ndim)\n",
        "print(TENSOR.shape)   # we have 1 dimension of 3-by-3"
      ],
      "metadata": {
        "colab": {
          "base_uri": "https://localhost:8080/"
        },
        "id": "Fcys0SZfAw4z",
        "outputId": "bfd226ff-de44-41b5-f391-0ff5bd8d9335"
      },
      "execution_count": null,
      "outputs": [
        {
          "output_type": "stream",
          "name": "stdout",
          "text": [
            "3\n",
            "torch.Size([1, 3, 3])\n"
          ]
        }
      ]
    },
    {
      "cell_type": "markdown",
      "source": [
        "### Random tensors\n",
        "\n",
        "Why random tensors?\n",
        "\n",
        "Random tensors are important because the way many neural networks learn is that they start with tensors full of random numbers and then adjust those random numbers to better represent the data.\n",
        "\n",
        "`Start with random numbers -> look at data -> update random numbers -> look at data -> update random numbers`"
      ],
      "metadata": {
        "id": "UBcjQWZLJe64"
      }
    },
    {
      "cell_type": "code",
      "source": [
        "# Create a random tensor of size (3,4)\n",
        "random_tensor = torch.rand(3,4)\n",
        "print(random_tensor)\n",
        "print(random_tensor.ndim)"
      ],
      "metadata": {
        "colab": {
          "base_uri": "https://localhost:8080/"
        },
        "id": "vK-MTEX3Jj13",
        "outputId": "3788daa4-3f8a-4f7f-e376-414dc2a131b0"
      },
      "execution_count": null,
      "outputs": [
        {
          "output_type": "stream",
          "name": "stdout",
          "text": [
            "tensor([[0.9306, 0.2330, 0.6972, 0.4789],\n",
            "        [0.2791, 0.8915, 0.5719, 0.5898],\n",
            "        [0.5221, 0.0326, 0.4386, 0.5503]])\n",
            "2\n"
          ]
        }
      ]
    },
    {
      "cell_type": "code",
      "source": [
        "# Create a random tensor with similar shape to an image tensor\n",
        "random_image_size_tensor = torch.rand(size=(3, 224, 224)) # height, width, color channels (R, G, B)\n",
        "random_image_size_tensor.shape, random_image_size_tensor.ndim"
      ],
      "metadata": {
        "colab": {
          "base_uri": "https://localhost:8080/"
        },
        "id": "mYFji7tjK-ZC",
        "outputId": "67771220-09a6-4448-cb8d-3afa6d108b35"
      },
      "execution_count": null,
      "outputs": [
        {
          "output_type": "execute_result",
          "data": {
            "text/plain": [
              "(torch.Size([3, 224, 224]), 3)"
            ]
          },
          "metadata": {},
          "execution_count": 39
        }
      ]
    },
    {
      "cell_type": "markdown",
      "source": [
        "Zeros and ones"
      ],
      "metadata": {
        "id": "bJ89KUHrPkIa"
      }
    },
    {
      "cell_type": "code",
      "source": [
        "zeros = torch.zeros(size=(3,4))\n",
        "zeros"
      ],
      "metadata": {
        "colab": {
          "base_uri": "https://localhost:8080/"
        },
        "id": "PjEfoDoaPnCq",
        "outputId": "678d60fb-1ca9-4416-a5bf-5a5a75cc33eb"
      },
      "execution_count": null,
      "outputs": [
        {
          "output_type": "execute_result",
          "data": {
            "text/plain": [
              "tensor([[0., 0., 0., 0.],\n",
              "        [0., 0., 0., 0.],\n",
              "        [0., 0., 0., 0.]])"
            ]
          },
          "metadata": {},
          "execution_count": 40
        }
      ]
    },
    {
      "cell_type": "code",
      "source": [
        "# Create a tensor of all ones\n",
        "ones = torch.ones(size=(3,4))\n",
        "ones"
      ],
      "metadata": {
        "colab": {
          "base_uri": "https://localhost:8080/"
        },
        "id": "Tq1wbNKtPrKq",
        "outputId": "6add5e6d-0c00-4c12-ecc2-a1e031a93b92"
      },
      "execution_count": null,
      "outputs": [
        {
          "output_type": "execute_result",
          "data": {
            "text/plain": [
              "tensor([[1., 1., 1., 1.],\n",
              "        [1., 1., 1., 1.],\n",
              "        [1., 1., 1., 1.]])"
            ]
          },
          "metadata": {},
          "execution_count": 41
        }
      ]
    },
    {
      "cell_type": "code",
      "source": [
        "ones.dtype"
      ],
      "metadata": {
        "colab": {
          "base_uri": "https://localhost:8080/"
        },
        "id": "hlYuyvAwPwRq",
        "outputId": "f4d61e99-2646-4c2e-f38b-bfe1fdcb8d59"
      },
      "execution_count": null,
      "outputs": [
        {
          "output_type": "execute_result",
          "data": {
            "text/plain": [
              "torch.float32"
            ]
          },
          "metadata": {},
          "execution_count": 42
        }
      ]
    },
    {
      "cell_type": "code",
      "source": [
        "random_tensor.dtype"
      ],
      "metadata": {
        "colab": {
          "base_uri": "https://localhost:8080/"
        },
        "id": "FH9ecfJ0Pxtf",
        "outputId": "4c2d518f-0b86-4bdb-a490-3808d1e6833d"
      },
      "execution_count": null,
      "outputs": [
        {
          "output_type": "execute_result",
          "data": {
            "text/plain": [
              "torch.float32"
            ]
          },
          "metadata": {},
          "execution_count": 43
        }
      ]
    },
    {
      "cell_type": "markdown",
      "source": [
        "### Creating a range of tensors and tensors-like"
      ],
      "metadata": {
        "id": "n5vYXj6-P0BG"
      }
    },
    {
      "cell_type": "code",
      "source": [
        "# use torch.arange()\n",
        "stuff = torch.arange(start=1,end=110,step=5)"
      ],
      "metadata": {
        "id": "-O9DI6rXQBC8"
      },
      "execution_count": null,
      "outputs": []
    },
    {
      "cell_type": "code",
      "source": [
        "# Creating tensors like\n",
        "ten_zeros = torch.zeros_like(input=stuff)\n",
        "ten_zeros"
      ],
      "metadata": {
        "colab": {
          "base_uri": "https://localhost:8080/"
        },
        "id": "aJIZGSqdQD4i",
        "outputId": "e35b95c2-c1de-46dc-ca0a-3bfca68bbf61"
      },
      "execution_count": null,
      "outputs": [
        {
          "output_type": "execute_result",
          "data": {
            "text/plain": [
              "tensor([0, 0, 0, 0, 0, 0, 0, 0, 0, 0, 0, 0, 0, 0, 0, 0, 0, 0, 0, 0, 0, 0])"
            ]
          },
          "metadata": {},
          "execution_count": 51
        }
      ]
    },
    {
      "cell_type": "markdown",
      "source": [
        "### Tensor datatypes"
      ],
      "metadata": {
        "id": "0dJ-W2IkQzk5"
      }
    },
    {
      "cell_type": "code",
      "source": [
        "# Float 32 tensor\n",
        "float_32_tensor = torch.tensor([3.0, 6.0, 9.0],\n",
        "                               dtype=None,\n",
        "                               device=None,\n",
        "                               requires_grad=False\n",
        "                               )\n",
        "\n",
        "float_32_tensor, float_32_tensor.dtype"
      ],
      "metadata": {
        "colab": {
          "base_uri": "https://localhost:8080/"
        },
        "id": "uTFsF36EQ5Rd",
        "outputId": "9b18eecb-d398-40be-c109-2c9028f686ed"
      },
      "execution_count": null,
      "outputs": [
        {
          "output_type": "execute_result",
          "data": {
            "text/plain": [
              "(tensor([3., 6., 9.]), torch.float32)"
            ]
          },
          "metadata": {},
          "execution_count": 61
        }
      ]
    },
    {
      "cell_type": "code",
      "source": [
        "float_16_tensor = float_32_tensor.type(torch.float16)\n",
        "float_16_tensor"
      ],
      "metadata": {
        "colab": {
          "base_uri": "https://localhost:8080/"
        },
        "id": "9E_OjWtFQ-RQ",
        "outputId": "74927e3b-964e-4f9f-c5b1-7ccf737535c3"
      },
      "execution_count": null,
      "outputs": [
        {
          "output_type": "execute_result",
          "data": {
            "text/plain": [
              "tensor([3., 6., 9.], dtype=torch.float16)"
            ]
          },
          "metadata": {},
          "execution_count": 63
        }
      ]
    },
    {
      "cell_type": "code",
      "source": [
        "float_16_tensor * float_32_tensor"
      ],
      "metadata": {
        "colab": {
          "base_uri": "https://localhost:8080/"
        },
        "id": "TNKne_NzTKrG",
        "outputId": "dd8a4d8c-1e08-41ec-ade9-bd176979550c"
      },
      "execution_count": null,
      "outputs": [
        {
          "output_type": "execute_result",
          "data": {
            "text/plain": [
              "tensor([ 9., 36., 81.])"
            ]
          },
          "metadata": {},
          "execution_count": 64
        }
      ]
    },
    {
      "cell_type": "markdown",
      "source": [
        "### Getting information from tensors (tensor attributes)\n",
        "\n",
        "1. Tensors are not the right datatype - to do get datatype from a tensor, can use tensor.dtype\n",
        "\n",
        "2. Tensors are not the right shape - to get shape from a tensor, can use tensor.shape\n",
        "\n",
        "3. Tensors not on the right device - to get device from a tensor, can use tensor.device"
      ],
      "metadata": {
        "id": "Moa__P5Sn8U-"
      }
    },
    {
      "cell_type": "code",
      "source": [
        "# Find out details about some tensor\n",
        "some_tensor = torch.rand(3,4)\n",
        "print(some_tensor)\n",
        "print(f\"Datatype of tensor: {some_tensor.dtype}\")\n",
        "print(f\"Shape of tensor: {some_tensor.shape}\")\n",
        "print(f\"Device tensor is on: {some_tensor.device}\")"
      ],
      "metadata": {
        "id": "SbG3U_HkTSZs",
        "colab": {
          "base_uri": "https://localhost:8080/"
        },
        "outputId": "de602ea9-dbdc-49cb-fee9-a4864907c27d"
      },
      "execution_count": null,
      "outputs": [
        {
          "output_type": "stream",
          "name": "stdout",
          "text": [
            "tensor([[0.9891, 0.0584, 0.9369, 0.3412],\n",
            "        [0.6735, 0.9404, 0.1021, 0.1407],\n",
            "        [0.1591, 0.5489, 0.9435, 0.5656]])\n",
            "Datatype of tensor: torch.float32\n",
            "Shape of tensor: torch.Size([3, 4])\n",
            "Device tensor is on: cpu\n"
          ]
        }
      ]
    },
    {
      "cell_type": "markdown",
      "source": [
        "### Manipulating Tensors (tensor operations)\n",
        "\n",
        "Tensor operations include:\n",
        "* Addition\n",
        "* Subtraction\n",
        "* Multiplication (element-wise)\n",
        "* Division\n",
        "* Matrix multiplication"
      ],
      "metadata": {
        "id": "dUUzOR_Cn2UT"
      }
    },
    {
      "cell_type": "code",
      "source": [
        "# Create a tensor and add 10 to it\n",
        "tensor = torch.tensor([1,2,3])\n",
        "tensor + 10\n",
        "print(tensor)\n",
        "\n",
        "# Multiply tensor by 10\n",
        "tensor = tensor * 10\n",
        "print(tensor)\n",
        "\n",
        "# In-built functions\n",
        "torch.mul(tensor, 10)\n",
        "print(tensor)\n",
        "\n",
        "torch.add(tensor, 10)\n",
        "print(tensor)"
      ],
      "metadata": {
        "colab": {
          "base_uri": "https://localhost:8080/"
        },
        "id": "wlYhRjQKoW51",
        "outputId": "8c126cfa-5b74-4784-c3d7-32f201d97037"
      },
      "execution_count": null,
      "outputs": [
        {
          "output_type": "stream",
          "name": "stdout",
          "text": [
            "tensor([1, 2, 3])\n",
            "tensor([10, 20, 30])\n",
            "tensor([10, 20, 30])\n"
          ]
        },
        {
          "output_type": "execute_result",
          "data": {
            "text/plain": [
              "tensor([20, 30, 40])"
            ]
          },
          "metadata": {},
          "execution_count": 7
        }
      ]
    },
    {
      "cell_type": "markdown",
      "source": [
        "### Matrix multiplication\n",
        "\n",
        "2 ways:\n",
        "1. Element-wise multiplication\n",
        "2. Matrix multiplication (dot product) - rows & columns\n",
        "\n",
        "rules:\n",
        "1. Inner dimension must match\n",
        "2. The resulting matrix has the shape of the outer dimensions\n"
      ],
      "metadata": {
        "id": "eg6_k91upF4q"
      }
    },
    {
      "cell_type": "code",
      "source": [
        "# Element-wise\n",
        "\n",
        "print(tensor, \"*\", tensor)\n",
        "print(f\"Equals: {tensor * tensor}\")\n",
        "\n",
        "# Matrix mul\n",
        "\n",
        "print(torch.matmul(tensor, tensor))"
      ],
      "metadata": {
        "id": "EUEBF987pPrH"
      },
      "execution_count": null,
      "outputs": []
    },
    {
      "cell_type": "markdown",
      "source": [
        "### One of the most common errors in deep learning: shape errors\n",
        "\n"
      ],
      "metadata": {
        "id": "V2vziDInp2bn"
      }
    },
    {
      "cell_type": "code",
      "source": [
        "# Shapes for matrix multiplication\n",
        "tensor_A = torch.tensor([[1,2],[3,4],[5,6]])\n",
        "tensor_B = torch.tensor([[7,10],[8,11],[9,12]])\n",
        "\n",
        "# torch.mm() is the same as torch.matmul()\n",
        "# torch.mm(tensor_A, tensor_B)  will lead to error, so we use transpose\n",
        "\n",
        "# transpose: switch axes\n",
        "print(tensor_B.T, tensor_B.T.shape)\n",
        "\n",
        "torch.mm(tensor_A, tensor_B.T)"
      ],
      "metadata": {
        "colab": {
          "base_uri": "https://localhost:8080/"
        },
        "id": "6KUNeTiorgPi",
        "outputId": "d1323642-ae74-41ea-ea77-d7c2d692a098"
      },
      "execution_count": null,
      "outputs": [
        {
          "output_type": "stream",
          "name": "stdout",
          "text": [
            "tensor([[ 7,  8,  9],\n",
            "        [10, 11, 12]]) torch.Size([2, 3])\n"
          ]
        },
        {
          "output_type": "execute_result",
          "data": {
            "text/plain": [
              "tensor([[ 27,  30,  33],\n",
              "        [ 61,  68,  75],\n",
              "        [ 95, 106, 117]])"
            ]
          },
          "metadata": {},
          "execution_count": 12
        }
      ]
    },
    {
      "cell_type": "markdown",
      "source": [
        "### Finding the min,max,mean,sum,etc (tensor aggregation)"
      ],
      "metadata": {
        "id": "rBnVCso_sHDy"
      }
    },
    {
      "cell_type": "code",
      "source": [
        "# Create tensor\n",
        "x = torch.arange(0,100,10)\n",
        "\n",
        "# min\n",
        "torch.min(x), x.min()\n",
        "\n",
        "# max\n",
        "torch.max(x), x.max()\n",
        "\n",
        "# mean; note: the torch.mean() function requires a tensor of float32\n",
        "# datatype to work\n",
        "torch.mean(x.type(torch.float32)), x.type(torch.float32).mean()\n",
        "\n",
        "# sum\n",
        "torch.sum(x), x.sum()\n"
      ],
      "metadata": {
        "colab": {
          "base_uri": "https://localhost:8080/"
        },
        "id": "DTxGBqQwtLYq",
        "outputId": "07015fd3-5c51-4407-85ae-ee04038f7afc"
      },
      "execution_count": null,
      "outputs": [
        {
          "output_type": "execute_result",
          "data": {
            "text/plain": [
              "(tensor(45.), tensor(45.))"
            ]
          },
          "metadata": {},
          "execution_count": 14
        }
      ]
    },
    {
      "cell_type": "markdown",
      "source": [
        "### Finding the positional min and max\n",
        "\n",
        "Basically, find which position the min or max is at in the tensor"
      ],
      "metadata": {
        "id": "vpnS5X-htO3X"
      }
    },
    {
      "cell_type": "code",
      "source": [
        "# position of min\n",
        "x.argmin()\n",
        "\n",
        "# position of max\n",
        "x.argmax()"
      ],
      "metadata": {
        "colab": {
          "base_uri": "https://localhost:8080/"
        },
        "id": "Va3ih46LttNy",
        "outputId": "544f10ea-45b7-4f2e-91bb-a0c506dfda5c"
      },
      "execution_count": null,
      "outputs": [
        {
          "output_type": "execute_result",
          "data": {
            "text/plain": [
              "tensor(9)"
            ]
          },
          "metadata": {},
          "execution_count": 15
        }
      ]
    },
    {
      "cell_type": "markdown",
      "source": [
        "### Reshaping, stacking, squeezing, unsqueezing tensors\n",
        "\n",
        "* Reshaping - reshapes an input tensor to a defined short\n",
        "* View - Return a view of an input tensor of certain shape but keep the same memory as the original tensor\n",
        "* Stacking - combine multiple tensors on top of each other (vstack) or side by side (hstack)\n",
        "* Squeeze - removes all `1` dimensions from a tensor\n",
        "* Unsqueeze - add a `1` dimension to a target tensor\n",
        "* Permute - return a view of the input with dimensions premuted (swapped) in a certain way"
      ],
      "metadata": {
        "id": "wrpkWhfHuLoL"
      }
    },
    {
      "cell_type": "code",
      "source": [
        "# create tensor\n",
        "import torch\n",
        "x = torch.arange(1., 10.)\n",
        "x, x.shape\n",
        "\n",
        "# Add an extra dimension\n",
        "x_reshaped = x.reshape(1,9)\n",
        "x_reshaped, x_reshaped.shape"
      ],
      "metadata": {
        "colab": {
          "base_uri": "https://localhost:8080/"
        },
        "id": "vCsqnktZuW1R",
        "outputId": "6c1d9759-727c-4e93-fb35-0cb4854d8cff"
      },
      "execution_count": null,
      "outputs": [
        {
          "output_type": "execute_result",
          "data": {
            "text/plain": [
              "(tensor([[1., 2., 3., 4., 5., 6., 7., 8., 9.]]), torch.Size([1, 9]))"
            ]
          },
          "metadata": {},
          "execution_count": 4
        }
      ]
    },
    {
      "cell_type": "code",
      "source": [
        "# Change the view\n",
        "z = x.view(1,9)\n",
        "z, z.shape\n",
        "\n",
        "# !Changing z changes x!"
      ],
      "metadata": {
        "colab": {
          "base_uri": "https://localhost:8080/"
        },
        "id": "F_lkak73uWyq",
        "outputId": "c0092453-7859-4339-e417-cc0a7fb8c426"
      },
      "execution_count": null,
      "outputs": [
        {
          "output_type": "execute_result",
          "data": {
            "text/plain": [
              "(tensor([[1., 2., 3., 4., 5., 6., 7., 8., 9.]]), torch.Size([1, 9]))"
            ]
          },
          "metadata": {},
          "execution_count": 5
        }
      ]
    },
    {
      "cell_type": "code",
      "source": [
        "# Stack tensors on top of each other\n",
        "x_stacked = torch.stack([x,x,x,x], dim=0)\n",
        "print(x_stacked)\n",
        "\n",
        "print(x_reshaped.squeeze())\n",
        "print(x_reshaped.squeeze().shape)\n",
        "print(x_reshaped.shape)                 # squeeze removes all single dimensions from a target tensor\n",
        "\n",
        "print(\"------------\")\n",
        "print(x_reshaped.unsqueeze(dim=0))\n",
        "print(x_reshaped.unsqueeze(dim=0).shape)        # unsqueeze adds a single dimension to a target tensor at a specific dim\n",
        "\n",
        "\n",
        "x_original = torch.rand(size=(224,224,3))     # height, width, color_channels\n",
        "\n",
        "# Permute the original tensor to rearrange the axis order\n",
        "x_permuted = x_original.permute(2,0,1)\n",
        "print(\"-------------\")\n",
        "print(x_original.shape)\n",
        "print(x_permuted.shape)         # permute changes the position of the dimensions; here, shifts axis 0->1, 1->2, 2->0\n",
        "# important, if you change x_original, the value of x_permuted will also change, because it takes the same place in memory\n"
      ],
      "metadata": {
        "id": "JZzOu7UXvTpM",
        "colab": {
          "base_uri": "https://localhost:8080/"
        },
        "outputId": "8326d2eb-6957-43ce-b929-e8a97f0b1dcf"
      },
      "execution_count": null,
      "outputs": [
        {
          "output_type": "stream",
          "name": "stdout",
          "text": [
            "tensor([[1., 2., 3., 4., 5., 6., 7., 8., 9.],\n",
            "        [1., 2., 3., 4., 5., 6., 7., 8., 9.],\n",
            "        [1., 2., 3., 4., 5., 6., 7., 8., 9.],\n",
            "        [1., 2., 3., 4., 5., 6., 7., 8., 9.]])\n",
            "tensor([1., 2., 3., 4., 5., 6., 7., 8., 9.])\n",
            "torch.Size([9])\n",
            "torch.Size([1, 9])\n",
            "------------\n",
            "tensor([[[1., 2., 3., 4., 5., 6., 7., 8., 9.]]])\n",
            "torch.Size([1, 1, 9])\n",
            "-------------\n",
            "torch.Size([224, 224, 3])\n",
            "torch.Size([3, 224, 224])\n"
          ]
        }
      ]
    },
    {
      "cell_type": "markdown",
      "source": [
        "### Indexing (selecting data from tensors)\n",
        "\n",
        "Indexing with PyTorch is similar to indexing with NumPy"
      ],
      "metadata": {
        "id": "tfgG6kdK4foZ"
      }
    },
    {
      "cell_type": "code",
      "source": [
        "# create a tensor\n",
        "import torch\n",
        "x = torch.arange(1,10).reshape(1,3,3)\n",
        "print(x, x.shape)\n",
        "\n",
        "print(\"-----1\")\n",
        "# Index on new tensor\n",
        "print(x[0])\n",
        "print(x[0][0])\n",
        "print(x[0][0][0])\n",
        "\n",
        "print(\"-----2\")\n",
        "\n",
        "# You can also use \":\" to select \"all\" of a target dimension\n",
        "print(x[:,0])\n",
        "print(x[:,:,1])\n"
      ],
      "metadata": {
        "colab": {
          "base_uri": "https://localhost:8080/"
        },
        "id": "KZ_qePb_-m5U",
        "outputId": "d6b4977d-1e97-4252-c95c-7f71a1c1fe6a"
      },
      "execution_count": null,
      "outputs": [
        {
          "output_type": "stream",
          "name": "stdout",
          "text": [
            "tensor([[[1, 2, 3],\n",
            "         [4, 5, 6],\n",
            "         [7, 8, 9]]]) torch.Size([1, 3, 3])\n",
            "-----1\n",
            "tensor([[1, 2, 3],\n",
            "        [4, 5, 6],\n",
            "        [7, 8, 9]])\n",
            "tensor([1, 2, 3])\n",
            "tensor(1)\n",
            "-----2\n",
            "tensor([[1, 2, 3]])\n",
            "tensor([[2, 5, 8]])\n",
            "tensor(9)\n"
          ]
        }
      ]
    },
    {
      "cell_type": "markdown",
      "source": [
        "### PyTorch tensors and NumPy\n",
        "\n",
        "NumPy is a popular scientific Python numerical computing library.\n",
        "PyTorch has functionality to interact with it.\n",
        "\n",
        "* Data in NumPy, want in PyTorch tensor -> `torch.from_numpy(ndarray)`\n",
        "* PyTorch tensor -> NumPy -> `torch.Tensor.numpy()`"
      ],
      "metadata": {
        "id": "3Ev18RCL-xI4"
      }
    },
    {
      "cell_type": "code",
      "source": [
        "# Numpy array to tensor\n",
        "import torch\n",
        "import numpy as np\n",
        "\n",
        "array = np.arange(1.0, 8.0)\n",
        "tensor = torch.from_numpy(array)\n",
        "print(f\"{array}\\n{tensor}\")\n",
        "\n",
        "# Note: when converting from numpy -> pytorch, pytorch reflects numpy's default datatype of float64\n",
        "\n",
        "# Also note: even if you change the value of the array, you won't change the value of the tensor"
      ],
      "metadata": {
        "id": "8grLAClwJIoV",
        "colab": {
          "base_uri": "https://localhost:8080/"
        },
        "outputId": "484f37fe-b0e0-4ff8-8f8e-21a8a8f1dccf"
      },
      "execution_count": null,
      "outputs": [
        {
          "output_type": "stream",
          "name": "stdout",
          "text": [
            "[1. 2. 3. 4. 5. 6. 7.]\n",
            "tensor([1., 2., 3., 4., 5., 6., 7.], dtype=torch.float64)\n"
          ]
        }
      ]
    },
    {
      "cell_type": "code",
      "source": [
        "# Tensor to NumPy array\n",
        "tensor = torch.ones(7)\n",
        "numpy_tensor = tensor.numpy()\n",
        "\n",
        "# the default datatype of numpy is float64, whereas for pytorch it's float64\n",
        "tensor = tensor + 1\n",
        "print(tensor, numpy_tensor)"
      ],
      "metadata": {
        "id": "uOvyTAGv-1PA",
        "colab": {
          "base_uri": "https://localhost:8080/"
        },
        "outputId": "4f92fcdf-73eb-4fa2-bb34-ccb5e8d53f46"
      },
      "execution_count": null,
      "outputs": [
        {
          "output_type": "stream",
          "name": "stdout",
          "text": [
            "tensor([2., 2., 2., 2., 2., 2., 2.]) [1. 1. 1. 1. 1. 1. 1.]\n"
          ]
        }
      ]
    },
    {
      "cell_type": "markdown",
      "source": [
        "### Reproducibility (trying to take random out of random)\n",
        "\n",
        "In short, how a neural network learns:\n",
        "`start with random numbers -> tensor operations -> update random numbers to try and make them better representation of the data -> again...`\n",
        "\n",
        "To reduce the randomness in neural networks and PyTorch comes the concept of a **random seed**\n",
        "\n",
        "Essentially what the random seed does is \"flavour\" the randomness"
      ],
      "metadata": {
        "id": "85Aow0_EbkWn"
      }
    },
    {
      "cell_type": "code",
      "source": [
        "import torch\n",
        "\n",
        "# create 2 random tensors\n",
        "random_tensor_A = torch.rand(10, 10)\n",
        "random_tensor_B = torch.rand(10, 10)\n",
        "#print(random_tensor_A)\n",
        "#print(random_tensor_B)\n",
        "same_randvalue = random_tensor_A == random_tensor_B\n",
        "print(same_randvalue)\n",
        "\n",
        "any_true = torch.any(same_randvalue == True)\n",
        "\n",
        "if any_true == True:\n",
        "  print(\"True\")\n",
        "  result = torch.where(random_tensor_A == random_tensor_B)\n",
        "  print(result)\n",
        "  print(random_tensor_A[result])\n",
        "else:\n",
        "  print(\"False\")\n",
        "\n",
        "# Set the random seed with torch.manual_seed(RANDOM_SEED)\n",
        "RANDOM_SEED = 42\n",
        "torch.manual_seed(RANDOM_SEED)\n",
        "random_tensor_C = torch.rand(10, 10)\n",
        "torch.manual_seed(RANDOM_SEED)\n",
        "random_tensor_D = torch.rand(10, 10)\n",
        "\n",
        "print(random_tensor_C == random_tensor_D)\n"
      ],
      "metadata": {
        "colab": {
          "base_uri": "https://localhost:8080/"
        },
        "collapsed": true,
        "id": "RmqTaz7ecOyQ",
        "outputId": "63d8db38-a43f-4357-de8f-78c24bf2819c"
      },
      "execution_count": null,
      "outputs": [
        {
          "output_type": "stream",
          "name": "stdout",
          "text": [
            "tensor([[False, False, False, False, False, False, False, False, False, False],\n",
            "        [False, False, False, False, False, False, False, False, False, False],\n",
            "        [False, False, False, False, False, False, False, False, False, False],\n",
            "        [False, False, False, False, False, False, False, False, False, False],\n",
            "        [False, False, False, False, False, False, False, False, False, False],\n",
            "        [False, False, False, False, False, False, False, False, False, False],\n",
            "        [False, False, False, False, False, False, False, False, False, False],\n",
            "        [False, False, False, False, False, False, False, False, False, False],\n",
            "        [False, False, False, False, False, False, False, False, False, False],\n",
            "        [False, False, False, False, False, False, False, False, False, False]])\n",
            "False\n",
            "tensor([[True, True, True, True, True, True, True, True, True, True],\n",
            "        [True, True, True, True, True, True, True, True, True, True],\n",
            "        [True, True, True, True, True, True, True, True, True, True],\n",
            "        [True, True, True, True, True, True, True, True, True, True],\n",
            "        [True, True, True, True, True, True, True, True, True, True],\n",
            "        [True, True, True, True, True, True, True, True, True, True],\n",
            "        [True, True, True, True, True, True, True, True, True, True],\n",
            "        [True, True, True, True, True, True, True, True, True, True],\n",
            "        [True, True, True, True, True, True, True, True, True, True],\n",
            "        [True, True, True, True, True, True, True, True, True, True]])\n"
          ]
        }
      ]
    },
    {
      "cell_type": "markdown",
      "source": [
        "### Running tensors and pytorch objects on the gpus (and making faster computations)\n",
        "\n",
        "GPU = faster computation on numbers, thanks to cuda + nvidia hardware + pytorch working bts"
      ],
      "metadata": {
        "id": "redW62T1gTxT"
      }
    },
    {
      "cell_type": "markdown",
      "source": [
        "### 1. Getting a GPU\n",
        "\n",
        "1. Easiest - use google coab for a free GPU (options to upgrade as well)\n",
        "2. Use your own GPU - takes a little bit of setup and requires the investment of purchasing a GPU, there's lots of options...\n",
        "3. Use cloud computing - GCP, AWS, Azure, these services allow you to rent computers on the cloud and access them\n",
        "\n",
        "For 2 and 3, refer to pytorch documentations: https://pytorch.org/get-started/locally/\n",
        "\n"
      ],
      "metadata": {
        "id": "T6JXF4VYo2Xu"
      }
    },
    {
      "cell_type": "markdown",
      "source": [
        "### Check for GPU access with PyTorch"
      ],
      "metadata": {
        "id": "8gHn9Mb1pc7T"
      }
    },
    {
      "cell_type": "code",
      "source": [
        "# Check for GPU access with PyTorch\n",
        "import torch\n",
        "torch.cuda.is_available()"
      ],
      "metadata": {
        "colab": {
          "base_uri": "https://localhost:8080/"
        },
        "id": "asxoDv2fqdaQ",
        "outputId": "ee23034e-4257-4c73-fcab-69be2aee26ca"
      },
      "execution_count": null,
      "outputs": [
        {
          "output_type": "execute_result",
          "data": {
            "text/plain": [
              "True"
            ]
          },
          "metadata": {},
          "execution_count": 1
        }
      ]
    },
    {
      "cell_type": "markdown",
      "source": [
        "Since pytorch can run on the cpu or gpu, this is best practice:\n",
        "https://pytorch.org/docs/stable/notes/cuda.html\n",
        "\n",
        "E.g. run on GPU in available, if else default to cpu"
      ],
      "metadata": {
        "id": "h29MCGmDsuVY"
      }
    },
    {
      "cell_type": "code",
      "source": [
        "# Setup device agnostic code\n",
        "device = \"cuda\" if torch.cuda.is_available() else \"cpu\"\n",
        "device"
      ],
      "metadata": {
        "colab": {
          "base_uri": "https://localhost:8080/",
          "height": 36
        },
        "id": "IftDr2HAr47P",
        "outputId": "799aaaec-d6b9-4054-a520-196056a1f6ed"
      },
      "execution_count": null,
      "outputs": [
        {
          "output_type": "execute_result",
          "data": {
            "text/plain": [
              "'cuda'"
            ],
            "application/vnd.google.colaboratory.intrinsic+json": {
              "type": "string"
            }
          },
          "metadata": {},
          "execution_count": 6
        }
      ]
    },
    {
      "cell_type": "code",
      "source": [
        "# Count number of devices\n",
        "torch.cuda.device_count()"
      ],
      "metadata": {
        "colab": {
          "base_uri": "https://localhost:8080/"
        },
        "id": "eW2CXdz4sGVG",
        "outputId": "0f20c492-f084-4321-d04f-c099167e4165"
      },
      "execution_count": null,
      "outputs": [
        {
          "output_type": "execute_result",
          "data": {
            "text/plain": [
              "1"
            ]
          },
          "metadata": {},
          "execution_count": 7
        }
      ]
    },
    {
      "cell_type": "markdown",
      "source": [
        "### 3. Putting tensors (and models) on the GPU\n",
        "\n",
        "The reason we want our tensors/models on the GPU is because using a GPU results in faster computations"
      ],
      "metadata": {
        "id": "ekE3QOEHsR5Z"
      }
    },
    {
      "cell_type": "code",
      "source": [
        "# create a tensor(default on the CPU)\n",
        "tensor = torch.tensor([1,2,3,])\n",
        "\n",
        "# Tensor not on GPU\n",
        "print(tensor, tensor.device)"
      ],
      "metadata": {
        "colab": {
          "base_uri": "https://localhost:8080/"
        },
        "id": "HUiQD7qvwxaY",
        "outputId": "29793dbf-492e-4943-d3ef-e43b6e6f7ed9"
      },
      "execution_count": null,
      "outputs": [
        {
          "output_type": "stream",
          "name": "stdout",
          "text": [
            "tensor([1, 2, 3]) cpu\n"
          ]
        }
      ]
    },
    {
      "cell_type": "code",
      "source": [
        "# Move tensor to GPU (if available)\n",
        "tensor_on_gpu = tensor.to(device)\n",
        "tensor_on_gpu # will display the index and the gpu which is being used"
      ],
      "metadata": {
        "colab": {
          "base_uri": "https://localhost:8080/"
        },
        "id": "NqBIu1JnxCLc",
        "outputId": "f3602bff-3290-4ebb-d71f-7b7e5617c129"
      },
      "execution_count": null,
      "outputs": [
        {
          "output_type": "execute_result",
          "data": {
            "text/plain": [
              "tensor([1, 2, 3], device='cuda:0')"
            ]
          },
          "metadata": {},
          "execution_count": 9
        }
      ]
    },
    {
      "cell_type": "markdown",
      "source": [
        "### 4. Moving tensors back to the CPU"
      ],
      "metadata": {
        "id": "JoUCbJUExhhx"
      }
    },
    {
      "cell_type": "code",
      "source": [
        "# If tensor is on GPU, can't transform it to NumPy\n",
        "#tensor_on_gpu.numpy()"
      ],
      "metadata": {
        "id": "SIdougSWx5kL"
      },
      "execution_count": null,
      "outputs": []
    },
    {
      "cell_type": "code",
      "source": [
        "# To fix the GPU tensor with NumPy issue, we can first set it to the CPU\n",
        "tensor_back_on_cpu = tensor_on_gpu.cpu().numpy()\n",
        "tensor_back_on_cpu"
      ],
      "metadata": {
        "colab": {
          "base_uri": "https://localhost:8080/"
        },
        "id": "IJQZFxYUyG_1",
        "outputId": "a67674f7-3e57-472a-cfd5-3712089a652a"
      },
      "execution_count": null,
      "outputs": [
        {
          "output_type": "execute_result",
          "data": {
            "text/plain": [
              "array([1, 2, 3])"
            ]
          },
          "metadata": {},
          "execution_count": 18
        }
      ]
    },
    {
      "cell_type": "code",
      "source": [
        "tensor_on_gpu"
      ],
      "metadata": {
        "colab": {
          "base_uri": "https://localhost:8080/"
        },
        "id": "KYLFPBr7yMFQ",
        "outputId": "989d4a94-26cf-4d9d-f19d-d34583bb39cb"
      },
      "execution_count": null,
      "outputs": [
        {
          "output_type": "execute_result",
          "data": {
            "text/plain": [
              "tensor([1, 2, 3], device='cuda:0')"
            ]
          },
          "metadata": {},
          "execution_count": 19
        }
      ]
    },
    {
      "cell_type": "code",
      "source": [],
      "metadata": {
        "id": "End7sflTyiMV"
      },
      "execution_count": null,
      "outputs": []
    }
  ]
}